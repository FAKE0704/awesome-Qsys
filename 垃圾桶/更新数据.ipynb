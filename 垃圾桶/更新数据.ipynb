{
 "cells": [
  {
   "cell_type": "code",
   "execution_count": 1,
   "metadata": {},
   "outputs": [],
   "source": [
    "from database import *\n",
    "from drawer import *"
   ]
  },
  {
   "cell_type": "code",
   "execution_count": 2,
   "metadata": {},
   "outputs": [
    {
     "name": "stdout",
     "output_type": "stream",
     "text": [
      "line59:2025-03-11\n",
      "===中化装备数据加载完成!数据日期为最新。===\n"
     ]
    }
   ],
   "source": [
    "data = Data(\"中化装备\",\"15\")\n",
    "# data = Data(\"上证综合指数\",\"d\")\n",
    "#000985.SH # 中证全指\n",
    "#sh.000001 # 上证综指\n",
    "\n",
    "# data = Data(\"sh.600622\",\"d\")\n",
    "data.load()"
   ]
  },
  {
   "cell_type": "code",
   "execution_count": 3,
   "metadata": {},
   "outputs": [
    {
     "data": {
      "text/plain": [
       "0           NaN\n",
       "1           NaN\n",
       "2           NaN\n",
       "3           NaN\n",
       "4           NaN\n",
       "          ...  \n",
       "23979    8.3920\n",
       "23980    8.3890\n",
       "23981    8.3885\n",
       "23982    8.3850\n",
       "23983    8.3845\n",
       "Name: SMA_20, Length: 23984, dtype: float64"
      ]
     },
     "execution_count": 3,
     "metadata": {},
     "output_type": "execute_result"
    }
   ],
   "source": [
    "data.get_sma(5)\n",
    "data.get_sma(10)\n",
    "data.get_sma(20)\n",
    "\n",
    "# data.get_macd(self, short_window, signal_window, long_window)"
   ]
  },
  {
   "cell_type": "code",
   "execution_count": 4,
   "metadata": {},
   "outputs": [
    {
     "data": {
      "application/vnd.microsoft.datawrangler.viewer.v0+json": {
       "columns": [
        {
         "name": "index",
         "rawType": "int64",
         "type": "integer"
        },
        {
         "name": "SMA_5",
         "rawType": "float64",
         "type": "float"
        },
        {
         "name": "SMA_10",
         "rawType": "float64",
         "type": "float"
        },
        {
         "name": "SMA_20",
         "rawType": "float64",
         "type": "float"
        }
       ],
       "conversionMethod": "pd.DataFrame",
       "ref": "5f4e1410-1ab6-4f5e-add8-f3a98589d5db",
       "rows": [
        [
         "0",
         null,
         null,
         null
        ],
        [
         "1",
         null,
         null,
         null
        ],
        [
         "2",
         null,
         null,
         null
        ],
        [
         "3",
         null,
         null,
         null
        ],
        [
         "4",
         null,
         null,
         null
        ],
        [
         "5",
         "8.3",
         null,
         null
        ],
        [
         "6",
         "8.272",
         null,
         null
        ],
        [
         "7",
         "8.26",
         null,
         null
        ],
        [
         "8",
         "8.248",
         null,
         null
        ],
        [
         "9",
         "8.236",
         null,
         null
        ],
        [
         "10",
         "8.214",
         "8.257",
         null
        ],
        [
         "11",
         "8.190000000000001",
         "8.231",
         null
        ],
        [
         "12",
         "8.168000000000001",
         "8.214",
         null
        ],
        [
         "13",
         "8.148",
         "8.198",
         null
        ],
        [
         "14",
         "8.134",
         "8.185",
         null
        ],
        [
         "15",
         "8.142",
         "8.178",
         null
        ],
        [
         "16",
         "8.146",
         "8.168",
         null
        ],
        [
         "17",
         "8.136",
         "8.152000000000001",
         null
        ],
        [
         "18",
         "8.145999999999999",
         "8.147",
         null
        ],
        [
         "19",
         "8.166",
         "8.150000000000002",
         null
        ],
        [
         "20",
         "8.168000000000001",
         "8.155000000000001",
         "8.206"
        ],
        [
         "21",
         "8.172",
         "8.158999999999999",
         "8.195"
        ],
        [
         "22",
         "8.190000000000001",
         "8.163",
         "8.188500000000001"
        ],
        [
         "23",
         "8.184000000000001",
         "8.165000000000001",
         "8.1815"
        ],
        [
         "24",
         "8.161999999999999",
         "8.163999999999998",
         "8.1745"
        ],
        [
         "25",
         "8.152",
         "8.16",
         "8.169"
        ],
        [
         "26",
         "8.142",
         "8.157",
         "8.1625"
        ],
        [
         "27",
         "8.136000000000001",
         "8.163",
         "8.1575"
        ],
        [
         "28",
         "8.14",
         "8.162",
         "8.1545"
        ],
        [
         "29",
         "8.146",
         "8.154",
         "8.152"
        ],
        [
         "30",
         "8.144",
         "8.148",
         "8.1515"
        ],
        [
         "31",
         "8.14",
         "8.141000000000002",
         "8.15"
        ],
        [
         "32",
         "8.136",
         "8.136",
         "8.1495"
        ],
        [
         "33",
         "8.116000000000001",
         "8.128",
         "8.1465"
        ],
        [
         "34",
         "8.104",
         "8.125",
         "8.1445"
        ],
        [
         "35",
         "8.092",
         "8.118",
         "8.139"
        ],
        [
         "36",
         "8.097999999999999",
         "8.119",
         "8.138000000000002"
        ],
        [
         "37",
         "8.102",
         "8.119",
         "8.141"
        ],
        [
         "38",
         "8.118",
         "8.117",
         "8.1395"
        ],
        [
         "39",
         "8.13",
         "8.117",
         "8.1355"
        ],
        [
         "40",
         "8.154",
         "8.123",
         "8.1355"
        ],
        [
         "41",
         "8.168000000000001",
         "8.133",
         "8.137"
        ],
        [
         "42",
         "8.178",
         "8.14",
         "8.138000000000002"
        ],
        [
         "43",
         "8.184",
         "8.151",
         "8.1395"
        ],
        [
         "44",
         "8.187999999999999",
         "8.159",
         "8.142"
        ],
        [
         "45",
         "8.18",
         "8.167",
         "8.142500000000002"
        ],
        [
         "46",
         "8.168000000000001",
         "8.168000000000001",
         "8.1435"
        ],
        [
         "47",
         "8.174000000000001",
         "8.176",
         "8.147499999999999"
        ],
        [
         "48",
         "8.188",
         "8.186",
         "8.1515"
        ],
        [
         "49",
         "8.2",
         "8.194",
         "8.1555"
        ]
       ],
       "shape": {
        "columns": 3,
        "rows": 23984
       }
      },
      "text/html": [
       "<div>\n",
       "<style scoped>\n",
       "    .dataframe tbody tr th:only-of-type {\n",
       "        vertical-align: middle;\n",
       "    }\n",
       "\n",
       "    .dataframe tbody tr th {\n",
       "        vertical-align: top;\n",
       "    }\n",
       "\n",
       "    .dataframe thead th {\n",
       "        text-align: right;\n",
       "    }\n",
       "</style>\n",
       "<table border=\"1\" class=\"dataframe\">\n",
       "  <thead>\n",
       "    <tr style=\"text-align: right;\">\n",
       "      <th></th>\n",
       "      <th>SMA_5</th>\n",
       "      <th>SMA_10</th>\n",
       "      <th>SMA_20</th>\n",
       "    </tr>\n",
       "  </thead>\n",
       "  <tbody>\n",
       "    <tr>\n",
       "      <th>0</th>\n",
       "      <td>NaN</td>\n",
       "      <td>NaN</td>\n",
       "      <td>NaN</td>\n",
       "    </tr>\n",
       "    <tr>\n",
       "      <th>1</th>\n",
       "      <td>NaN</td>\n",
       "      <td>NaN</td>\n",
       "      <td>NaN</td>\n",
       "    </tr>\n",
       "    <tr>\n",
       "      <th>2</th>\n",
       "      <td>NaN</td>\n",
       "      <td>NaN</td>\n",
       "      <td>NaN</td>\n",
       "    </tr>\n",
       "    <tr>\n",
       "      <th>3</th>\n",
       "      <td>NaN</td>\n",
       "      <td>NaN</td>\n",
       "      <td>NaN</td>\n",
       "    </tr>\n",
       "    <tr>\n",
       "      <th>4</th>\n",
       "      <td>NaN</td>\n",
       "      <td>NaN</td>\n",
       "      <td>NaN</td>\n",
       "    </tr>\n",
       "    <tr>\n",
       "      <th>...</th>\n",
       "      <td>...</td>\n",
       "      <td>...</td>\n",
       "      <td>...</td>\n",
       "    </tr>\n",
       "    <tr>\n",
       "      <th>23979</th>\n",
       "      <td>8.352</td>\n",
       "      <td>8.357</td>\n",
       "      <td>8.3920</td>\n",
       "    </tr>\n",
       "    <tr>\n",
       "      <th>23980</th>\n",
       "      <td>8.348</td>\n",
       "      <td>8.354</td>\n",
       "      <td>8.3890</td>\n",
       "    </tr>\n",
       "    <tr>\n",
       "      <th>23981</th>\n",
       "      <td>8.352</td>\n",
       "      <td>8.354</td>\n",
       "      <td>8.3885</td>\n",
       "    </tr>\n",
       "    <tr>\n",
       "      <th>23982</th>\n",
       "      <td>8.356</td>\n",
       "      <td>8.354</td>\n",
       "      <td>8.3850</td>\n",
       "    </tr>\n",
       "    <tr>\n",
       "      <th>23983</th>\n",
       "      <td>8.370</td>\n",
       "      <td>8.363</td>\n",
       "      <td>8.3845</td>\n",
       "    </tr>\n",
       "  </tbody>\n",
       "</table>\n",
       "<p>23984 rows × 3 columns</p>\n",
       "</div>"
      ],
      "text/plain": [
       "       SMA_5  SMA_10  SMA_20\n",
       "0        NaN     NaN     NaN\n",
       "1        NaN     NaN     NaN\n",
       "2        NaN     NaN     NaN\n",
       "3        NaN     NaN     NaN\n",
       "4        NaN     NaN     NaN\n",
       "...      ...     ...     ...\n",
       "23979  8.352   8.357  8.3920\n",
       "23980  8.348   8.354  8.3890\n",
       "23981  8.352   8.354  8.3885\n",
       "23982  8.356   8.354  8.3850\n",
       "23983  8.370   8.363  8.3845\n",
       "\n",
       "[23984 rows x 3 columns]"
      ]
     },
     "execution_count": 4,
     "metadata": {},
     "output_type": "execute_result"
    }
   ],
   "source": [
    "data.sma"
   ]
  },
  {
   "cell_type": "code",
   "execution_count": 5,
   "metadata": {},
   "outputs": [
    {
     "name": "stderr",
     "output_type": "stream",
     "text": [
      "2025-03-12 01:59:28.663 WARNING streamlit.runtime.scriptrunner_utils.script_run_context: Thread 'MainThread': missing ScriptRunContext! This warning can be ignored when running in bare mode.\n",
      "2025-03-12 01:59:28.664 WARNING streamlit.runtime.scriptrunner_utils.script_run_context: Thread 'MainThread': missing ScriptRunContext! This warning can be ignored when running in bare mode.\n",
      "2025-03-12 01:59:28.665 WARNING streamlit.runtime.scriptrunner_utils.script_run_context: Thread 'MainThread': missing ScriptRunContext! This warning can be ignored when running in bare mode.\n",
      "2025-03-12 01:59:29.851 \n",
      "  \u001b[33m\u001b[1mWarning:\u001b[0m to view this Streamlit app on a browser, run it with the following\n",
      "  command:\n",
      "\n",
      "    streamlit run c:\\Users\\0704\\VSC_work\\src\\Quantitative_System\\venvQuant\\Lib\\site-packages\\ipykernel_launcher.py [ARGUMENTS]\n",
      "2025-03-12 01:59:29.853 Thread 'MainThread': missing ScriptRunContext! This warning can be ignored when running in bare mode.\n"
     ]
    }
   ],
   "source": [
    "fig1 = Drawer(data = data.sma)\n",
    "fig1.drawMA(5)"
   ]
  },
  {
   "cell_type": "code",
   "execution_count": 6,
   "metadata": {},
   "outputs": [],
   "source": [
    "# data.set_strategy(\"均线\",data.get_sma(5)<data.get_sma(10))\n",
    "# data.get_strategy(\"均线\")"
   ]
  },
  {
   "cell_type": "code",
   "execution_count": null,
   "metadata": {},
   "outputs": [],
   "source": []
  },
  {
   "cell_type": "code",
   "execution_count": null,
   "metadata": {},
   "outputs": [],
   "source": []
  }
 ],
 "metadata": {
  "kernelspec": {
   "display_name": "venvQuant",
   "language": "python",
   "name": "python3"
  },
  "language_info": {
   "codemirror_mode": {
    "name": "ipython",
    "version": 3
   },
   "file_extension": ".py",
   "mimetype": "text/x-python",
   "name": "python",
   "nbconvert_exporter": "python",
   "pygments_lexer": "ipython3",
   "version": "3.13.0"
  }
 },
 "nbformat": 4,
 "nbformat_minor": 2
}
