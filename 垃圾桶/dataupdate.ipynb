{
 "cells": [
  {
   "cell_type": "code",
   "execution_count": null,
   "metadata": {},
   "outputs": [],
   "source": [
    "import pandas as pd\n",
    "from datetime import datetime\n",
    "import baostock as bs\n",
    "import os\n",
    "import openpyxl\n",
    "\n",
    "from IPython.core.interactiveshell import InteractiveShell\n",
    "InteractiveShell.ast_node_interactivity = \"all\"\n",
    "\n",
    "\n",
    "def get_stock_data(stock_code,start_date,end_date,frequency):\n",
    "    \"\"\"\n",
    "    stock_code：\n",
    "    start_date：string,\n",
    "    end_date：string,\n",
    "    frequency：\n",
    "    \"\"\"\n",
    "\n",
    "    lg = bs.login()\n",
    "    rs = bs.query_history_k_data_plus(stock_code,\n",
    "        \"date,time,code,open,high,low,close,volume,amount,adjustflag\",\n",
    "        start_date=start_date, end_date=end_date,\n",
    "        frequency=frequency, adjustflag=\"3\")\n",
    "    #### 打印结果集 ####\n",
    "    data_list = []\n",
    "    while (rs.error_code == '0') & rs.next():\n",
    "        # 获取一条记录，将记录合并在一起\n",
    "        data_list.append(rs.get_row_data())\n",
    "        print(rs.get_row_data())\n",
    "    result = pd.DataFrame(data_list, columns=rs.fields)\n",
    "    bs.logout()\n",
    "    return result\n",
    "\n",
    "def update_data(stock_code,frequency):\n",
    "    \"\"\"\n",
    "    更新数据，取数据表中的最后日期为start_date，至今为end_date，若start_date==end_date,则不更新\n",
    "    stock_code：\n",
    "    start_date：\n",
    "    end_date：\n",
    "    frequency：\n",
    "    \"\"\"\n",
    "    directory_path = \"../Data/\"\n",
    "\n",
    "    df = pd.read_excel(\"../Data/股票信息.xlsx\")\n",
    "    excel_name = df.loc[df['code']==stock_code,'code_name'].iloc[0]\n",
    "    excel_name = f\"{excel_name}最新数据.xlsx\"\n",
    "    file_path = os.path.join(directory_path, excel_name)\n",
    "\n",
    "    if not os.path.isfile(file_path):\n",
    "        #没数据新建数据\n",
    "        start_date = df.loc[df['code']==stock_code,'ipoDate'].astype(str).values[0]\n",
    "        print(f\"{stock_code}啊{start_date}至{datetime.now().strftime('%Y-%m-%d')}{frequency}\")\n",
    "        print(f\"{excel_name}数据新建中..\")\n",
    "        data = get_stock_data(stock_code,start_date,datetime.now().strftime('%Y-%m-%d'),'5')\n",
    "        data.to_excel(file_path, index=False)\n",
    "        print(f\"{excel_name}数据已新建\")\n",
    "    else:\n",
    "        #有数据更新数据\n",
    "        data = pd.read_excel(file_path)\n",
    "        data['date'] = data['date'].astype(str)\n",
    "        start_date = pd.to_datetime(data['date'], format = \"%Y-%m-%d\", errors='coerce').max().strftime('%Y-%m-%d') #取数据表中的最后日期\n",
    "        # ------------这里有个坑\n",
    "        end_date = datetime.now().strftime('%Y-%m-%d') #至今\n",
    "        \n",
    "        if start_date != end_date:\n",
    "            \n",
    "            result = get_stock_data(stock_code,start_date,end_date,frequency)\n",
    "            with pd.ExcelWriter(file_path, mode='a', engine='openpyxl', if_sheet_exists='overlay') as writer:\n",
    "                result.to_excel(writer, sheet_name='Sheet1', index=False)\n",
    "            print(f\"{excel_name}数据已更新\")\n",
    "        else:\n",
    "            print(f\"{excel_name}数据已是最新\")\n",
    "    \n",
    "    \n",
    "    \n",
    "\n",
    "    "
   ]
  },
  {
   "cell_type": "code",
   "execution_count": 13,
   "metadata": {},
   "outputs": [
    {
     "name": "stdout",
     "output_type": "stream",
     "text": [
      "login success!\n",
      "logout success!\n"
     ]
    }
   ],
   "source": [
    "df = get_stock_data(\"sh.601162\",\"2025-06-02\",\"2025-06-06\",'d')"
   ]
  },
  {
   "cell_type": "code",
   "execution_count": 14,
   "metadata": {},
   "outputs": [
    {
     "name": "stdout",
     "output_type": "stream",
     "text": [
      "(0, 0)\n"
     ]
    }
   ],
   "source": [
    "print(df.shape)"
   ]
  },
  {
   "cell_type": "code",
   "execution_count": 71,
   "metadata": {},
   "outputs": [],
   "source": [
    "df = pd.read_excel(\"../Data/股票信息.xlsx\")"
   ]
  },
  {
   "cell_type": "code",
   "execution_count": 97,
   "metadata": {},
   "outputs": [
    {
     "data": {
      "text/html": [
       "<div>\n",
       "<style scoped>\n",
       "    .dataframe tbody tr th:only-of-type {\n",
       "        vertical-align: middle;\n",
       "    }\n",
       "\n",
       "    .dataframe tbody tr th {\n",
       "        vertical-align: top;\n",
       "    }\n",
       "\n",
       "    .dataframe thead th {\n",
       "        text-align: right;\n",
       "    }\n",
       "</style>\n",
       "<table border=\"1\" class=\"dataframe\">\n",
       "  <thead>\n",
       "    <tr style=\"text-align: right;\">\n",
       "      <th></th>\n",
       "      <th>Unnamed: 0</th>\n",
       "      <th>code</th>\n",
       "      <th>code_name</th>\n",
       "      <th>ipoDate</th>\n",
       "      <th>outDate</th>\n",
       "      <th>type</th>\n",
       "      <th>status</th>\n",
       "    </tr>\n",
       "  </thead>\n",
       "  <tbody>\n",
       "    <tr>\n",
       "      <th>2747</th>\n",
       "      <td>2747</td>\n",
       "      <td>sh.601162</td>\n",
       "      <td>天风证券</td>\n",
       "      <td>2018-10-19</td>\n",
       "      <td>NaN</td>\n",
       "      <td>1</td>\n",
       "      <td>1</td>\n",
       "    </tr>\n",
       "  </tbody>\n",
       "</table>\n",
       "</div>"
      ],
      "text/plain": [
       "      Unnamed: 0       code code_name     ipoDate outDate  type  status\n",
       "2747        2747  sh.601162      天风证券  2018-10-19     NaN     1       1"
      ]
     },
     "execution_count": 97,
     "metadata": {},
     "output_type": "execute_result"
    },
    {
     "data": {
      "text/html": [
       "<div>\n",
       "<style scoped>\n",
       "    .dataframe tbody tr th:only-of-type {\n",
       "        vertical-align: middle;\n",
       "    }\n",
       "\n",
       "    .dataframe tbody tr th {\n",
       "        vertical-align: top;\n",
       "    }\n",
       "\n",
       "    .dataframe thead th {\n",
       "        text-align: right;\n",
       "    }\n",
       "</style>\n",
       "<table border=\"1\" class=\"dataframe\">\n",
       "  <thead>\n",
       "    <tr style=\"text-align: right;\">\n",
       "      <th></th>\n",
       "      <th>Unnamed: 0</th>\n",
       "      <th>code</th>\n",
       "      <th>code_name</th>\n",
       "      <th>ipoDate</th>\n",
       "      <th>outDate</th>\n",
       "      <th>type</th>\n",
       "      <th>status</th>\n",
       "    </tr>\n",
       "  </thead>\n",
       "  <tbody>\n",
       "    <tr>\n",
       "      <th>2348</th>\n",
       "      <td>2348</td>\n",
       "      <td>sh.600622</td>\n",
       "      <td>光大嘉宝</td>\n",
       "      <td>1992-12-03</td>\n",
       "      <td>NaN</td>\n",
       "      <td>1</td>\n",
       "      <td>1</td>\n",
       "    </tr>\n",
       "  </tbody>\n",
       "</table>\n",
       "</div>"
      ],
      "text/plain": [
       "      Unnamed: 0       code code_name     ipoDate outDate  type  status\n",
       "2348        2348  sh.600622      光大嘉宝  1992-12-03     NaN     1       1"
      ]
     },
     "execution_count": 97,
     "metadata": {},
     "output_type": "execute_result"
    },
    {
     "data": {
      "text/html": [
       "<div>\n",
       "<style scoped>\n",
       "    .dataframe tbody tr th:only-of-type {\n",
       "        vertical-align: middle;\n",
       "    }\n",
       "\n",
       "    .dataframe tbody tr th {\n",
       "        vertical-align: top;\n",
       "    }\n",
       "\n",
       "    .dataframe thead th {\n",
       "        text-align: right;\n",
       "    }\n",
       "</style>\n",
       "<table border=\"1\" class=\"dataframe\">\n",
       "  <thead>\n",
       "    <tr style=\"text-align: right;\">\n",
       "      <th></th>\n",
       "      <th>Unnamed: 0</th>\n",
       "      <th>code</th>\n",
       "      <th>code_name</th>\n",
       "      <th>ipoDate</th>\n",
       "      <th>outDate</th>\n",
       "      <th>type</th>\n",
       "      <th>status</th>\n",
       "    </tr>\n",
       "  </thead>\n",
       "  <tbody>\n",
       "    <tr>\n",
       "      <th>4281</th>\n",
       "      <td>4281</td>\n",
       "      <td>sz.000158</td>\n",
       "      <td>常山北明</td>\n",
       "      <td>2000-07-24</td>\n",
       "      <td>NaN</td>\n",
       "      <td>1</td>\n",
       "      <td>1</td>\n",
       "    </tr>\n",
       "  </tbody>\n",
       "</table>\n",
       "</div>"
      ],
      "text/plain": [
       "      Unnamed: 0       code code_name     ipoDate outDate  type  status\n",
       "4281        4281  sz.000158      常山北明  2000-07-24     NaN     1       1"
      ]
     },
     "execution_count": 97,
     "metadata": {},
     "output_type": "execute_result"
    },
    {
     "data": {
      "text/html": [
       "<div>\n",
       "<style scoped>\n",
       "    .dataframe tbody tr th:only-of-type {\n",
       "        vertical-align: middle;\n",
       "    }\n",
       "\n",
       "    .dataframe tbody tr th {\n",
       "        vertical-align: top;\n",
       "    }\n",
       "\n",
       "    .dataframe thead th {\n",
       "        text-align: right;\n",
       "    }\n",
       "</style>\n",
       "<table border=\"1\" class=\"dataframe\">\n",
       "  <thead>\n",
       "    <tr style=\"text-align: right;\">\n",
       "      <th></th>\n",
       "      <th>Unnamed: 0</th>\n",
       "      <th>code</th>\n",
       "      <th>code_name</th>\n",
       "      <th>ipoDate</th>\n",
       "      <th>outDate</th>\n",
       "      <th>type</th>\n",
       "      <th>status</th>\n",
       "    </tr>\n",
       "  </thead>\n",
       "  <tbody>\n",
       "    <tr>\n",
       "      <th>5565</th>\n",
       "      <td>5565</td>\n",
       "      <td>sz.002765</td>\n",
       "      <td>蓝黛科技</td>\n",
       "      <td>2015-06-12</td>\n",
       "      <td>NaN</td>\n",
       "      <td>1</td>\n",
       "      <td>1</td>\n",
       "    </tr>\n",
       "  </tbody>\n",
       "</table>\n",
       "</div>"
      ],
      "text/plain": [
       "      Unnamed: 0       code code_name     ipoDate outDate  type  status\n",
       "5565        5565  sz.002765      蓝黛科技  2015-06-12     NaN     1       1"
      ]
     },
     "execution_count": 97,
     "metadata": {},
     "output_type": "execute_result"
    },
    {
     "data": {
      "text/plain": [
       "'2018-10-19'"
      ]
     },
     "execution_count": 97,
     "metadata": {},
     "output_type": "execute_result"
    }
   ],
   "source": [
    "df.loc[df['code_name'].str.contains(\"天风证券\"),:]\n",
    "df.loc[df['code_name'].str.contains(\"光大嘉宝\"),:]\n",
    "df.loc[df['code_name'].str.contains(\"常山北明\"),:]\n",
    "df.loc[df['code_name'].str.contains(\"蓝黛科技\"),:]\n",
    "df.loc[df['code']=='sh.601162','ipoDate'].astype(str).values[0]"
   ]
  },
  {
   "cell_type": "code",
   "execution_count": 100,
   "metadata": {},
   "outputs": [
    {
     "name": "stdout",
     "output_type": "stream",
     "text": [
      "login success!\n",
      "logout success!\n",
      "光大嘉宝最新数据.xlsx数据已更新\n",
      "login success!\n",
      "logout success!\n",
      "长江电力最新数据.xlsx数据已更新\n",
      "sz.002765啊2015-06-12至2024-12-255\n",
      "蓝黛科技最新数据.xlsx数据新建中..\n",
      "login success!\n",
      "logout success!\n",
      "蓝黛科技最新数据.xlsx数据已新建\n",
      "sz.000158啊2000-07-24至2024-12-255\n",
      "常山北明最新数据.xlsx数据新建中..\n",
      "login success!\n",
      "logout success!\n",
      "常山北明最新数据.xlsx数据已新建\n"
     ]
    }
   ],
   "source": [
    "#update_data(\"sh.601162\",\"5\")\n",
    "update_data(\"sh.600622\",\"5\") #光大嘉宝：sh.600622\n",
    "update_data(\"sh.600900\",\"5\") #长江电力：sh.600900\n",
    "update_data(\"sz.002765\",\"5\") #蓝黛科技：sz.002765\n",
    "update_data(\"sz.000158\",\"5\") #常山北明：sz.000158\n",
    "\n",
    "\n",
    "#update_data(\"sh.600900\",\"5\") #：sh.600900\n",
    "\n",
    "#上证综指：sh.000001\n",
    "#中油资本：sz.000617\n",
    "\n",
    "#天风证券：sh.601162\n",
    "#中信证券：sh.600030\n",
    "#国金证券：sh.600109\n",
    "\n",
    "\n"
   ]
  },
  {
   "cell_type": "code",
   "execution_count": 6,
   "metadata": {},
   "outputs": [
    {
     "name": "stdout",
     "output_type": "stream",
     "text": [
      "Collecting openpyxl\n",
      "  Using cached openpyxl-3.1.5-py2.py3-none-any.whl.metadata (2.5 kB)\n",
      "Collecting et-xmlfile (from openpyxl)\n",
      "  Using cached et_xmlfile-2.0.0-py3-none-any.whl.metadata (2.7 kB)\n",
      "Using cached openpyxl-3.1.5-py2.py3-none-any.whl (250 kB)\n",
      "Using cached et_xmlfile-2.0.0-py3-none-any.whl (18 kB)\n",
      "Installing collected packages: et-xmlfile, openpyxl\n",
      "Successfully installed et-xmlfile-2.0.0 openpyxl-3.1.5\n",
      "Note: you may need to restart the kernel to use updated packages.\n"
     ]
    }
   ],
   "source": [
    "%pip install openpyxl"
   ]
  },
  {
   "cell_type": "markdown",
   "metadata": {},
   "source": [
    "# 抓取所有股票数据-working"
   ]
  },
  {
   "cell_type": "code",
   "execution_count": null,
   "metadata": {},
   "outputs": [
    {
     "name": "stdout",
     "output_type": "stream",
     "text": [
      "login success!\n"
     ]
    },
    {
     "ename": "MemoryError",
     "evalue": "",
     "output_type": "error",
     "traceback": [
      "\u001b[1;31m---------------------------------------------------------------------------\u001b[0m",
      "\u001b[1;31mMemoryError\u001b[0m                               Traceback (most recent call last)",
      "Cell \u001b[1;32mIn[17], line 23\u001b[0m\n\u001b[0;32m     18\u001b[0m k_rs \u001b[38;5;241m=\u001b[39m bs\u001b[38;5;241m.\u001b[39mquery_history_k_data_plus(stcode,\n\u001b[0;32m     19\u001b[0m     \u001b[38;5;124m\"\u001b[39m\u001b[38;5;124mdate,code,open,high,low,close\u001b[39m\u001b[38;5;124m\"\u001b[39m,\n\u001b[0;32m     20\u001b[0m     start_date\u001b[38;5;241m=\u001b[39m\u001b[38;5;124m\"\u001b[39m\u001b[38;5;124m1990-12-19\u001b[39m\u001b[38;5;124m\"\u001b[39m, end_date\u001b[38;5;241m=\u001b[39m\u001b[38;5;124m\"\u001b[39m\u001b[38;5;124m2024-10-29\u001b[39m\u001b[38;5;124m\"\u001b[39m, frequency\u001b[38;5;241m=\u001b[39m\u001b[38;5;124m\"\u001b[39m\u001b[38;5;124m5\u001b[39m\u001b[38;5;124m\"\u001b[39m, adjustflag\u001b[38;5;241m=\u001b[39m\u001b[38;5;124m\"\u001b[39m\u001b[38;5;124m3\u001b[39m\u001b[38;5;124m\"\u001b[39m)\n\u001b[0;32m     21\u001b[0m \u001b[38;5;28;01mwhile\u001b[39;00m (k_rs\u001b[38;5;241m.\u001b[39merror_code \u001b[38;5;241m==\u001b[39m \u001b[38;5;124m'\u001b[39m\u001b[38;5;124m0\u001b[39m\u001b[38;5;124m'\u001b[39m) \u001b[38;5;241m&\u001b[39m k_rs\u001b[38;5;241m.\u001b[39mnext():\n\u001b[0;32m     22\u001b[0m \u001b[38;5;66;03m# 获取一条记录，将记录合并在一起\u001b[39;00m\n\u001b[1;32m---> 23\u001b[0m     \u001b[43mtlist\u001b[49m\u001b[38;5;241;43m.\u001b[39;49m\u001b[43mappend\u001b[49m\u001b[43m(\u001b[49m\u001b[43mrs\u001b[49m\u001b[38;5;241;43m.\u001b[39;49m\u001b[43mget_row_data\u001b[49m\u001b[43m(\u001b[49m\u001b[43m)\u001b[49m\u001b[43m)\u001b[49m\n\u001b[0;32m     24\u001b[0m data_list\u001b[38;5;241m.\u001b[39mappend(tlist)\n",
      "\u001b[1;31mMemoryError\u001b[0m: "
     ]
    }
   ],
   "source": [
    "# 获取分时数据\n",
    "#### 登陆系统 ####\n",
    "lg = bs.login()\n",
    "# 获取证券信息\n",
    "rs = bs.query_all_stock(day=\"2024-10-29\")\n",
    "stock_df = rs.get_data()\n",
    "\n",
    "# 准备一个空的DataFrame来存储股票的开始时间信息\n",
    "start_times = pd.DataFrame()\n",
    "\n",
    "# 遍历所有股票，获取每只股票的开始时间\n",
    "data_list = []\n",
    "for stcode in stock_df[\"code\"]:\n",
    "    tlist = []\n",
    "    # 获取单只股票的历史K线数据\n",
    "    time.sleep(0.2)\n",
    "    #codename = stock_df.loc[stock_df.code==stcode,\"code_name\"]\n",
    "    k_rs = bs.query_history_k_data_plus(stcode, \"date,code,open,high,low,close\",\n",
    "        start_date=\"1990-12-19\", end_date=\"2024-10-29\", frequency=\"5\", adjustflag=\"3\")\n",
    "    while (k_rs.error_code == '0') & k_rs.next():\n",
    "    # 获取一条记录，将记录合并在一起\n",
    "        tlist.append(rs.get_row_data())\n",
    "    data_list.append(tlist)\n"
   ]
  },
  {
   "cell_type": "markdown",
   "metadata": {},
   "source": [
    "# 所有股票信息"
   ]
  },
  {
   "cell_type": "code",
   "execution_count": 14,
   "metadata": {},
   "outputs": [
    {
     "name": "stdout",
     "output_type": "stream",
     "text": [
      "login success!\n",
      "login respond error_code: 0\n",
      "login respond error_msg: success\n",
      "query_stock_basic respond error_code: 0\n",
      "query_stock_basic respond error_msg: success\n",
      "           code   code_name     ipoDate outDate type status\n",
      "0     of.159001   易方达保证金货币A  2013-03-29            5      1\n",
      "1     of.159003    招商保证金快线A  2013-05-17            5      1\n",
      "2     of.159005  汇添富收益快钱货币A  2014-12-23            5      1\n",
      "3     of.159150  易方达深证50ETF  2023-11-29            5      1\n",
      "4     of.159300  富国沪深300ETF  2024-05-23            5      1\n",
      "...         ...         ...         ...     ...  ...    ...\n",
      "8131  sz.399994  中证信息安全主题指数  2015-03-12            2      1\n",
      "8132  sz.399995    中证基建工程指数  2015-03-12            2      1\n",
      "8133  sz.399996    中证智能家居指数  2014-09-17            2      1\n",
      "8134  sz.399997      中证白酒指数  2015-01-21            2      1\n",
      "8135  sz.399998      中证煤炭指数  2015-02-13            2      1\n",
      "\n",
      "[8136 rows x 6 columns]\n",
      "logout success!\n"
     ]
    },
    {
     "data": {
      "text/plain": [
       "<baostock.data.resultset.ResultData at 0x19fe63df9b0>"
      ]
     },
     "execution_count": 14,
     "metadata": {},
     "output_type": "execute_result"
    }
   ],
   "source": [
    "import baostock as bs\n",
    "import pandas as pd\n",
    "\n",
    "# 登录Baostock\n",
    "lg = bs.login()\n",
    "\n",
    "# 显示登录返回信息\n",
    "print('login respond error_code: ' + lg.error_code)\n",
    "print('login respond error_msg: ' + lg.error_msg)\n",
    "\n",
    "# 获取证券基本资料\n",
    "# 这里我们查询所有A股股票的基本信息\n",
    "rs = bs.query_stock_basic()\n",
    "\n",
    "# 打印错误信息\n",
    "print('query_stock_basic respond error_code: ' + rs.error_code)\n",
    "print('query_stock_basic respond error_msg: ' + rs.error_msg)\n",
    "\n",
    "# 获取查询结果\n",
    "data_list = []\n",
    "while (rs.error_code == '0') & rs.next():\n",
    "    # 获取一条记录，将记录合并在一起\n",
    "    data_list.append(rs.get_row_data())\n",
    "result = pd.DataFrame(data_list, columns=rs.fields)\n",
    "\n",
    "# 打印结果集\n",
    "# 登出系统\n",
    "bs.logout()\n"
   ]
  },
  {
   "cell_type": "code",
   "execution_count": 15,
   "metadata": {},
   "outputs": [],
   "source": [
    "result.to_excel(\"../Data/股票信息.xlsx\")\n",
    "result[result['code']=='sh.600622']"
   ]
  },
  {
   "cell_type": "code",
   "execution_count": 17,
   "metadata": {},
   "outputs": [
    {
     "data": {
      "text/html": [
       "<div>\n",
       "<style scoped>\n",
       "    .dataframe tbody tr th:only-of-type {\n",
       "        vertical-align: middle;\n",
       "    }\n",
       "\n",
       "    .dataframe tbody tr th {\n",
       "        vertical-align: top;\n",
       "    }\n",
       "\n",
       "    .dataframe thead th {\n",
       "        text-align: right;\n",
       "    }\n",
       "</style>\n",
       "<table border=\"1\" class=\"dataframe\">\n",
       "  <thead>\n",
       "    <tr style=\"text-align: right;\">\n",
       "      <th></th>\n",
       "      <th>code</th>\n",
       "      <th>code_name</th>\n",
       "      <th>ipoDate</th>\n",
       "      <th>outDate</th>\n",
       "      <th>type</th>\n",
       "      <th>status</th>\n",
       "    </tr>\n",
       "  </thead>\n",
       "  <tbody>\n",
       "    <tr>\n",
       "      <th>2348</th>\n",
       "      <td>sh.600622</td>\n",
       "      <td>光大嘉宝</td>\n",
       "      <td>1992-12-03</td>\n",
       "      <td></td>\n",
       "      <td>1</td>\n",
       "      <td>1</td>\n",
       "    </tr>\n",
       "  </tbody>\n",
       "</table>\n",
       "</div>"
      ],
      "text/plain": [
       "           code code_name     ipoDate outDate type status\n",
       "2348  sh.600622      光大嘉宝  1992-12-03            1      1"
      ]
     },
     "execution_count": 17,
     "metadata": {},
     "output_type": "execute_result"
    }
   ],
   "source": []
  },
  {
   "cell_type": "markdown",
   "metadata": {},
   "source": [
    "# 获取单只股日k数据"
   ]
  },
  {
   "cell_type": "code",
   "execution_count": null,
   "metadata": {},
   "outputs": [
    {
     "name": "stdout",
     "output_type": "stream",
     "text": [
      "login success!\n",
      "logout success!\n"
     ]
    }
   ],
   "source": [
    "stock_code = \"sh.600622\"\n",
    "\n",
    "start_date='2021-01-01'; end_date='2022-01-01'\n",
    "frequency=\"5\"\n",
    "# 详细指标参数，参见“历史行情指标参数”章节；“分钟线”参数与“日线”参数不同。“分钟线”不包含指数。\n",
    "# 分钟线指标：date,time,code,open,high,low,close,volume,amount,adjustflag\n",
    "# 周月线指标：date,code,open,high,low,close,volume,amount,adjustflag,turn,pctChg\n",
    "df = get_stock_data(stock_code,start_date,end_date,frequency)\n",
    "df.to_excel(\"../Data/光大嘉宝最新数据.xlsx\")\n"
   ]
  },
  {
   "cell_type": "markdown",
   "metadata": {
    "slideshow": {
     "slide_type": "notes"
    }
   },
   "source": [
    "```python\n",
    "rs = bs.query_history_k_data_plus(\"sh.600000\",\n",
    "    \"date,time,code,open,high,low,close,volume,amount,adjustflag\",\n",
    "    start_date='2017-07-01', end_date='2017-07-31',\n",
    "    frequency=\"5\", adjustflag=\"3\")\n",
    "```\n",
    "参数含义：\n",
    "code：股票代码，sh或sz.+6位数字代码，或者指数代码，如：sh.601398。sh：上海；sz：深圳。此参数不可为空；\n",
    "fields：指示简称，支持多指标输入，以半角逗号分隔，填写内容作为返回类型的列。详细指标列表见历史行情指标参数章节，日线与分钟线参数不同。此参数不可为空；\n",
    "start：开始日期（包含），格式“YYYY-MM-DD”，为空时取2015-01-01；\n",
    "end：结束日期（包含），格式“YYYY-MM-DD”，为空时取最近一个交易日；\n",
    "frequency：数据类型，默认为d，日k线；d=日k线、w=周、m=月、5=5分钟、15=15分钟、30=30分钟、60=60分钟k线数据，不区分大小写；指数没有分钟线数据；周线每周最后一个交易日才可以获取，月线每月最后一个交易日才可以获取。\n",
    "adjustflag：复权类型，默认不复权：3；1：后复权；2：前复权。已支持分钟线、日线、周线、月线前后复权。 BaoStock提供的是涨跌幅复权算法复权因子，具体介绍见：复权因子简介或者BaoStock复权因子简介。\n",
    "\n",
    "注意：\n",
    "股票停牌时，对于日线，开、高、低、收价都相同，且都为前一交易日的收盘价，成交量、成交额为0，换手率为空。\n",
    "如果需要将换手率转为float类型，可使用如下方法转换：result[\"turn\"] = [0 if x == \"\" else float(x) for x in result[\"turn\"]]\n",
    "\n",
    "关于复权数据的说明：\n",
    "BaoStock使用“涨跌幅复权法”进行复权，详细说明参考上文“复权因子简介”。不同系统间采用复权方式可能不一致，导致数据不一致。\n",
    "“涨跌幅复权法的”优点：可以计算出资金收益率，确保初始投入的资金运用率为100%，既不会因为分红而导致投资减少，也不会因为配股导致投资增加。"
   ]
  },
  {
   "cell_type": "markdown",
   "metadata": {},
   "source": [
    "# 获取单只股分时数据"
   ]
  },
  {
   "cell_type": "code",
   "execution_count": 51,
   "metadata": {},
   "outputs": [
    {
     "name": "stdout",
     "output_type": "stream",
     "text": [
      "login success!\n",
      "query_history_k_data_plus respond error_code:10004012\n",
      "query_history_k_data_plus respond  error_msg:5分钟线指标参数传入错误:preclose\n"
     ]
    }
   ],
   "source": [
    "lg = bs.login()\n",
    "\n",
    "rs = bs.query_history_k_data_plus(\"sh.600622\",\n",
    "    \"date,code,open,high,low,close,preclose,volume,amount,adjustflag,turn,tradestatus,pctChg,isST\",\n",
    "    start_date='2020-01-01', end_date='2023-01-01',\n",
    "    frequency=\"5\", adjustflag=\"3\")\n",
    "print('query_history_k_data_plus respond error_code:'+rs.error_code)\n",
    "print('query_history_k_data_plus respond  error_msg:'+rs.error_msg)\n",
    "\n",
    "#### 打印结果集 ####\n",
    "data_list = []\n",
    "while (rs.error_code == '0') & rs.next():\n",
    "    # 获取一条记录，将记录合并在一起\n",
    "    data_list.append(rs.get_row_data())\n",
    "result = pd.DataFrame(data_list, columns=rs.fields)\n",
    "\n",
    "#### 结果集输出到csv文件 ####   \n",
    "result.to_excel(\"../Data/光大嘉宝最新数据.xlsx\", index=False)"
   ]
  },
  {
   "cell_type": "code",
   "execution_count": null,
   "metadata": {},
   "outputs": [],
   "source": []
  },
  {
   "cell_type": "code",
   "execution_count": null,
   "metadata": {},
   "outputs": [],
   "source": []
  },
  {
   "cell_type": "code",
   "execution_count": null,
   "metadata": {},
   "outputs": [
    {
     "data": {
      "text/plain": [
       "<Figure size 32000x24000 with 0 Axes>"
      ]
     },
     "metadata": {},
     "output_type": "display_data"
    },
    {
     "data": {
      "image/png": "[encoded data removed]",
      "text/plain": [
       "<Figure size 640x480 with 1 Axes>"
      ]
     },
     "metadata": {},
     "output_type": "display_data"
    }
   ],
   "source": [
    "df['close'] = df['close'].astype('float')\n",
    "# 绘制第一个图：测试集图\n",
    "fig = plt.figure(figsize=(20, 5))  # 设置图形的大小\n",
    "fig, ax1 = plt.subplots()\n",
    "_=ax1.plot(df.close, label='amount',lw=0.27, color = 'blue')  # 绘制测试集\n",
    "\n",
    "for i in range(len(df.close)):\n",
    "    _=ax1.text(df.close.index[i], df.close[i], f\"{df.close[i]:.2f}\", ha='center', va='center',fontsize = 5)  # 绘制测试集\n",
    "\n",
    "#_=ax1.bar(df.time,df.close, label='amount',lw=0.27, color = 'blue')  # 绘制测试集\n",
    "#_=ax1.scatter(pd.DataFrame(dtest_y).reset_index(0)['close'].index, pd.DataFrame(dtest_y).reset_index(0)['close'], s=0.1, edgecolors='blue', facecolors='none', marker='o',lw=0.025)\n",
    "_=ax1.set_xlabel('时序')\n",
    "_=ax1.set_ylabel('金额', color='b')\n",
    "_=ax1.tick_params(axis='y', labelcolor='b')\n",
    "\n",
    "\n",
    "# # 创建第二个Y轴\n",
    "# ax2 = ax1.twinx()\n",
    "\n",
    "# # 绘制第二个图：收盘价及买卖点位\n",
    "# _=ax2.plot(df.iloc[:,7].index, prediction2.predictions, label='Prediction',lw=0.05, color = 'black')  # 绘制预测值\n",
    "\n",
    "# plt.savefig('backtest_01.svg', format='svg')"
   ]
  },
  {
   "cell_type": "code",
   "execution_count": null,
   "metadata": {},
   "outputs": [],
   "source": []
  }
 ],
 "metadata": {
  "kernelspec": {
   "display_name": "venvMac",
   "language": "python",
   "name": "python3"
  },
  "language_info": {
   "codemirror_mode": {
    "name": "ipython",
    "version": 3
   },
   "file_extension": ".py",
   "mimetype": "text/x-python",
   "name": "python",
   "nbconvert_exporter": "python",
   "pygments_lexer": "ipython3",
   "version": "3.9.6"
  }
 },
 "nbformat": 4,
 "nbformat_minor": 2
}
