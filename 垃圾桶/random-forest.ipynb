{
 "cells": [
  {
   "cell_type": "markdown",
   "metadata": {},
   "source": [
    "# random forest"
   ]
  },
  {
   "cell_type": "code",
   "execution_count": null,
   "metadata": {},
   "outputs": [],
   "source": [
    "import pandas as pd\n",
    "import numpy as np\n",
    "from sklearn.model_selection import train_test_split\n",
    "from sklearn.ensemble import RandomForestRegressor\n",
    "from sklearn.metrics import accuracy_score, precision_score, recall_score, f1_score\n",
    "from sklearn.metrics import mean_squared_error, mean_absolute_error, r2_score\n",
    "import matplotlib.pyplot as plt\n",
    "import os\n"
   ]
  },
  {
   "cell_type": "code",
   "execution_count": null,
   "metadata": {},
   "outputs": [],
   "source": []
  },
  {
   "cell_type": "code",
   "execution_count": null,
   "metadata": {},
   "outputs": [],
   "source": [
    "def load_data(file_path):\n",
    "    file_extension = file_path.split(\".\")[-1].lower()\n",
    "\n",
    "    full_file_path = os.path.join(os.path.dirname(os.path.dirname(os.getcwd())),\"Data\",file_path)\n",
    "    print(f\"从{full_file_path}加载数据集\")\n",
    "\n",
    "    # 判断文件类型\n",
    "    if file_extension in [\"csv\"]:\n",
    "        data = pd.read_csv(full_file_path)\n",
    "    elif file_extension in [\"xlsx\"]:\n",
    "        data = pd.read_excel(full_file_path, engine=\"openpyxl\")\n",
    "    else:\n",
    "        print(f\"不支持的文件类型：{file_extension}\")\n",
    "\n",
    "    # 确保时间列time为datetime格式\n",
    "    if \"time\" not in data.columns and \"close\" in data.columns:  # 数据集没有time列\n",
    "        data[\"time\"] = pd.to_datetime(data[\"date\"])  # 统一使用time代表时间\n",
    "    else:\n",
    "        # 提取需要的部分并格式化\n",
    "        data[\"time\"] = data[\"time\"].astype(str).str[:12]\n",
    "        data[\"time\"] = pd.to_datetime(data[\"time\"], format=\"%Y%m%d%H%M\")\n",
    "\n",
    "    # 按时间排序\n",
    "    data.sort_values(by=\"time\", inplace=True)\n",
    "    data.head(3)\n",
    "    data.reset_index(drop=True)\n",
    "    # 设置日期为索引\n",
    "    data.set_index('time', inplace=True)\n",
    "    print(\"数据集加载完成\")\n",
    "    return data"
   ]
  },
  {
   "cell_type": "code",
   "execution_count": null,
   "metadata": {},
   "outputs": [],
   "source": [
    "df = load_data(\"光大嘉宝最新数据.xlsx\")\n",
    "\n",
    "dfbu = df.copy()"
   ]
  },
  {
   "cell_type": "code",
   "execution_count": null,
   "metadata": {},
   "outputs": [],
   "source": [
    "df = dfbu.copy()\n",
    "df = df [df.index.year==2022]\n",
    "df.columns"
   ]
  },
  {
   "cell_type": "code",
   "execution_count": null,
   "metadata": {},
   "outputs": [],
   "source": [
    "\n",
    "# 选择特征和目标变量\n",
    "# 假设我们使用 'Open', 'High', 'Low', 'Volume' 作为特征，预测 'Close' 价格\n",
    "features = ['open', 'high', 'low',  'volume']\n",
    "target = 'close'\n",
    "\n",
    "# 创建特征和目标变量\n",
    "X = df[features]\n",
    "y = df[target]\n",
    "\n",
    "# 数据分割\n",
    "# 将数据分为训练集和测试集（例如，80% 训练集，20% 测试集）\n",
    "X_train, X_test, y_train, y_test = train_test_split(X, y, test_size=0.2, random_state=42)\n",
    "\n",
    "# 模型训练\n",
    "# 初始化随机森林回归器\n",
    "rf = RandomForestRegressor(n_estimators=100, random_state=42)\n",
    "\n",
    "# 训练模型\n",
    "rf.fit(X_train, y_train)\n",
    "\n",
    "# 模型评估\n",
    "# 在测试集上进行预测\n",
    "y_pred = rf.predict(X_test)\n",
    "\n",
    "# 将预测结果转换为 DataFrame，并设置索引\n",
    "y_pred_df = pd.DataFrame(y_pred, index=X_test.index, columns=['Predicted Close Price'])\n",
    "y_test = y_test.sort_index()\n",
    "y_pred_df = y_pred_df.sort_index()\n",
    "\n",
    "# 计算评估指标\n",
    "mse = mean_squared_error(y_test, y_pred_df)\n",
    "r2 = r2_score(y_test, y_pred_df)\n",
    "\n",
    "print(f\"Mean Squared Error: {mse}\")\n",
    "print(f\"R^2 Score: {r2}\")\n",
    "\n"
   ]
  },
  {
   "cell_type": "code",
   "execution_count": null,
   "metadata": {},
   "outputs": [],
   "source": [
    "\n",
    "\n",
    "# 可视化预测结果\n",
    "plt.clf()\n",
    "plt.figure(figsize=(50, 6), dpi=300) \n",
    "\n",
    "plt.plot(y_test.index, y_test, label='Actual Close Price',)\n",
    "plt.plot(y_pred_df.index, y_pred_df, label='Predicted Close Price', alpha=0.7)\n",
    "plt.xlabel('Date')\n",
    "plt.ylabel('Close Price')\n",
    "plt.title('Random Forest Prediction of Stock Close Price')\n",
    "plt.legend()\n",
    "\n",
    "# Save the figure in a high-quality format\n",
    "plt.savefig('random_forest_prediction.svg', bbox_inches='tight')\n",
    "\n",
    "plt.show()"
   ]
  },
  {
   "cell_type": "code",
   "execution_count": null,
   "metadata": {},
   "outputs": [],
   "source": [
    "df2 = dfbu.copy()\n",
    "df2 = df2 [df2.index.year==2023]\n",
    "\n",
    "# 在未来数据上进行预测\n",
    "X_future = df2[features]\n",
    "Y_future =  df2[target]\n",
    "y_pred_future = rf.predict(X_future)\n",
    "\n",
    "# 将预测结果转换为 DataFrame，并设置索引\n",
    "y_pred_future = pd.DataFrame(y_pred_future, index=X_future.index, columns=['Predicted Close Price'])\n",
    "Y_future = Y_future.sort_index()\n",
    "y_pred_future = y_pred_future.sort_index()\n",
    "\n",
    "\n",
    "# 计算评估指标\n",
    "mse = mean_squared_error(Y_future, y_pred_future)\n",
    "r2 = r2_score(Y_future, y_pred_future)\n",
    "\n",
    "print(f\"Mean Squared Error: {mse}\")\n",
    "print(f\"R^2 Score: {r2}\")\n",
    "\n",
    "accuracy = accuracy_score(Y_future, y_pred_future)\n",
    "precision = precision_score(Y_future, y_pred_future, average='macro')\n",
    "recall = recall_score(Y_future, y_pred_future, average='macro')\n",
    "f1 = f1_score(Y_future, y_pred_future, average='macro')\n",
    "\n",
    "print(f\"Accuracy: {accuracy:.4f}\")\n",
    "print(f\"Precision: {precision:.4f}\")\n",
    "print(f\"Recall: {recall:.4f}\")\n",
    "print(f\"F1-score: {f1:.4f}\")\n",
    "\n",
    "importances = rf.feature_importances_\n",
    "print(\"Feature Importances:\", importances)"
   ]
  },
  {
   "cell_type": "code",
   "execution_count": null,
   "metadata": {},
   "outputs": [],
   "source": [
    "# 可视化预测结果\n",
    "plt.clf()\n",
    "plt.figure(figsize=(50, 6), dpi=300) \n",
    "\n",
    "plt.plot(Y_future.index, Y_future, label='Actual Close Price',)\n",
    "plt.plot(y_pred_future.index, y_pred_future, label='Predicted Close Price', alpha=0.7)\n",
    "plt.xlabel('Date')\n",
    "plt.ylabel('Close Price')\n",
    "plt.title('Random Forest Prediction of Stock Close Price')\n",
    "plt.legend()\n",
    "\n",
    "# Save the figure in a high-quality format\n",
    "plt.savefig('Future_result.svg', bbox_inches='tight')\n",
    "\n",
    "plt.show()"
   ]
  },
  {
   "cell_type": "markdown",
   "metadata": {},
   "source": [
    "# Model Estimation"
   ]
  },
  {
   "cell_type": "markdown",
   "metadata": {},
   "source": [
    "准确率 (Accuracy)"
   ]
  },
  {
   "cell_type": "code",
   "execution_count": null,
   "metadata": {},
   "outputs": [],
   "source": []
  },
  {
   "cell_type": "code",
   "execution_count": null,
   "metadata": {},
   "outputs": [],
   "source": []
  },
  {
   "cell_type": "markdown",
   "metadata": {},
   "source": [
    "精确率 (Precision) 和 召回率 (Recall)"
   ]
  },
  {
   "cell_type": "code",
   "execution_count": null,
   "metadata": {},
   "outputs": [],
   "source": []
  },
  {
   "cell_type": "code",
   "execution_count": null,
   "metadata": {},
   "outputs": [],
   "source": []
  },
  {
   "cell_type": "code",
   "execution_count": null,
   "metadata": {},
   "outputs": [],
   "source": []
  },
  {
   "cell_type": "markdown",
   "metadata": {},
   "source": [
    "F1-score"
   ]
  },
  {
   "cell_type": "code",
   "execution_count": null,
   "metadata": {},
   "outputs": [],
   "source": []
  },
  {
   "cell_type": "code",
   "execution_count": null,
   "metadata": {},
   "outputs": [],
   "source": []
  },
  {
   "cell_type": "markdown",
   "metadata": {},
   "source": [
    "ROC 曲线和 AUC 值"
   ]
  },
  {
   "cell_type": "code",
   "execution_count": null,
   "metadata": {},
   "outputs": [],
   "source": []
  },
  {
   "cell_type": "code",
   "execution_count": null,
   "metadata": {},
   "outputs": [],
   "source": []
  },
  {
   "cell_type": "markdown",
   "metadata": {},
   "source": [
    "交叉验证 (Cross-Validation)"
   ]
  }
 ],
 "metadata": {
  "kernelspec": {
   "display_name": "venvML",
   "language": "python",
   "name": "python3"
  },
  "language_info": {
   "codemirror_mode": {
    "name": "ipython",
    "version": 3
   },
   "file_extension": ".py",
   "mimetype": "text/x-python",
   "name": "python",
   "nbconvert_exporter": "python",
   "pygments_lexer": "ipython3",
   "version": "3.13.0"
  }
 },
 "nbformat": 4,
 "nbformat_minor": 2
}
